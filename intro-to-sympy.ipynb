{
 "cells": [
  {
   "cell_type": "markdown",
   "id": "9c011f8e-c91f-4ed2-9aac-7cec86e4a071",
   "metadata": {},
   "source": [
    "# Working in SymPy\n",
    "\n",
    "`SymPy` is a package for symbolic manipulation of expressions, equations, and calculus. The [website](https://docs.sympy.org/latest/index.html) for `SymPy` has tutorials explaining how things work. You can also use the `help()` and `dir()` functions to explore the properties of the `SymPy` package.\n",
    "\n",
    "The way it is structured is that the different mathematical objects are defined with capital letters (e.g. `Symbol`, `Function`, `Matrix`) while the functions and utilities are defined with lower-case leading letters (e.g. `simplify`, `dsolve`)."
   ]
  },
  {
   "cell_type": "markdown",
   "id": "f02f4bb2-26fe-46c7-b8fb-4336f4c2576e",
   "metadata": {},
   "source": [
    "### 1. **Basic Operations**\n",
    "\n",
    "- `symbols()`: Define symbolic variables for expressions.\n",
    "- `subs()`: Substitute values or expressions for variables.\n",
    "- `sympify()`: Convert strings or Python objects to SymPy expressions.\n",
    "- `evalf()`: Evaluate expressions to floating-point numbers.\n",
    "- `lambdify()`: Convert symbolic expressions to numerical functions (supports backends like NumPy and SciPy).\n"
   ]
  },
  {
   "cell_type": "markdown",
   "id": "c273a14c-4628-42e5-8431-0cbd58476e53",
   "metadata": {},
   "source": [
    "### 2. **Simplifying Expressions**\n",
    "\n",
    "- `simplify()`: Simplify general expressions (algebraic, trigonometric, etc.).\n",
    "- `expand()`: Expand an expression (e.g., expand a polynomial or product).\n",
    "- `factor()`: Factor expressions (e.g., factor a polynomial).\n",
    "- `collect()`: Collect like terms in an expression.\n",
    "- `apart()`: Partial fraction decomposition of rational expressions.\n",
    "- `cancel()`: Cancel common factors in a rational function.\n",
    "- `trigsimp()`: Simplify trigonometric expressions.\n",
    "- `logcombine()`: Combine logarithmic terms into a single expression.\n",
    "- `powsimp()`: Simplify powers and exponents.\n"
   ]
  },
  {
   "cell_type": "markdown",
   "id": "17af0651-4cea-4dee-8b50-ff48f9118935",
   "metadata": {},
   "source": [
    "### 3. **Calculus**\n",
    "\n",
    "#### 3.1 Derivatives\n",
    "- `diff()`: Compute derivatives of expressions (supports higher-order derivatives).\n",
    "\n",
    "#### 3.2 Integrals\n",
    "- `integrate()`: Compute symbolic integrals (both definite and indefinite).\n",
    "- `integrate(f, (var, a, b))`: Compute definite integrals over an interval.\n",
    "  \n",
    "#### 3.3 Limits\n",
    "- `limit()`: Compute the limit of an expression as a variable approaches a value.\n",
    "\n",
    "#### 3.4 Series\n",
    "- `series()`: Expand a function in a Taylor or Laurent series around a point.\n"
   ]
  },
  {
   "cell_type": "markdown",
   "id": "87d5dd3d-d260-4df4-a02b-0e3e1525ffde",
   "metadata": {},
   "source": [
    "### 4. **Linear Algebra**\n",
    "\n",
    "- `Matrix()`: Define symbolic matrices.\n",
    "- `det()`: Compute the determinant of a matrix.\n",
    "- `inv()`: Compute the inverse of a matrix.\n",
    "- `eigenvals()`: Compute eigenvalues of a matrix.\n",
    "- `eigenvects()`: Compute eigenvectors of a matrix.\n",
    "- `solve_linear_system()`: Solve a system of linear equations.\n",
    "- `transpose()`: Transpose a matrix.\n",
    "- `rref()`: Compute the reduced row echelon form of a matrix.\n"
   ]
  },
  {
   "cell_type": "markdown",
   "id": "fcdad056-2414-42d9-844a-ed5dd00f58ec",
   "metadata": {},
   "source": [
    "### 5. **Differential Equations**\n",
    "\n",
    "- `dsolve()`: Solve ordinary differential equations (ODEs).\n",
    "- `Function()`: Define a function that represents the solution of a differential equation.\n",
    "- `Eq()`: Set up an equation (useful for defining differential equations).\n",
    "- `classify_ode()`: Classify an ODE to determine its solution method.\n",
    "- `checkodesol()`: Check whether a solution satisfies a given differential equation.\n"
   ]
  },
  {
   "cell_type": "markdown",
   "id": "83afdf77-b9ef-49ac-81cb-8808919406cc",
   "metadata": {},
   "source": [
    "### 6. **Solving Equations**\n",
    "\n",
    "- `solve()`: Solve algebraic equations (returns roots or solutions).\n",
    "- `nonlinsolve()`: Solve systems of nonlinear equations.\n",
    "- `linsolve()`: Solve systems of linear equations.\n",
    "- `solvers.solvers.solve()`: A more general solver for symbolic equations.\n",
    "- `solvers.decomp_ineq()`: Decompose inequalities for solving them.\n"
   ]
  },
  {
   "cell_type": "markdown",
   "id": "d553c212-6c9a-4bae-8f59-eac3f40886b5",
   "metadata": {},
   "source": [
    "### 7. **Polynomials**\n",
    "\n",
    "- `Poly()`: Create a polynomial object for more control over polynomials.\n",
    "- `degree()`: Get the degree of a polynomial.\n",
    "- `roots()`: Find the roots of a polynomial.\n",
    "- `gcd()`: Compute the greatest common divisor of polynomials.\n",
    "- `lcm()`: Compute the least common multiple of polynomials.\n"
   ]
  },
  {
   "cell_type": "markdown",
   "id": "29b03144-71d0-437e-88f1-bdc36b948df3",
   "metadata": {},
   "source": [
    "### 8. **Trigonometry**\n",
    "\n",
    "- `sin()`, `cos()`, `tan()`: Basic trigonometric functions.\n",
    "- `asin()`, `acos()`, `atan()`: Inverse trigonometric functions.\n",
    "- `expand_trig()`: Expand trigonometric expressions (e.g., using angle addition formulas).\n",
    "- `trigsimp()`: Simplify trigonometric expressions.\n",
    "- `rewrite()`: Rewrite trigonometric functions in terms of other functions (e.g., rewrite `sin(x)` in terms of exponential functions).\n"
   ]
  },
  {
   "cell_type": "markdown",
   "id": "00b21f75-b3d3-4452-83b2-c9e95ae4a2ca",
   "metadata": {},
   "source": [
    "### Here's an example of how to solve a quadratic equation"
   ]
  },
  {
   "cell_type": "code",
   "execution_count": 2,
   "id": "1292573a-ec37-405d-b771-6148870a5196",
   "metadata": {},
   "outputs": [
    {
     "data": {
      "text/plain": [
       "[(-b - sqrt(-4*a*c + b**2))/(2*a), (-b + sqrt(-4*a*c + b**2))/(2*a)]"
      ]
     },
     "execution_count": 2,
     "metadata": {},
     "output_type": "execute_result"
    }
   ],
   "source": [
    "import sympy as sp\n",
    "\n",
    "# Define the symbolic variables\n",
    "a, b, c, x = sp.symbols('a b c x')\n",
    "\n",
    "# Define the quadratic equation: ax^2 + bx + c = 0\n",
    "quadratic_eq = sp.Eq(a*x**2 + b*x + c, 0)\n",
    "\n",
    "# Solve the quadratic equation for x\n",
    "solutions = sp.solve(quadratic_eq, x)\n",
    "\n",
    "# Display the solutions\n",
    "solutions\n"
   ]
  },
  {
   "cell_type": "code",
   "execution_count": 11,
   "id": "14be7aa2-06fa-4b4a-ad50-d74616f7c00a",
   "metadata": {},
   "outputs": [
    {
     "data": {
      "text/plain": [
       "[-1/6]"
      ]
     },
     "execution_count": 11,
     "metadata": {},
     "output_type": "execute_result"
    }
   ],
   "source": [
    "# define variables\n",
    "x = sp.symbols('x')\n",
    "\n",
    "#define equason\n",
    "driv_eq = sp.diff(6*x**2 + 2*x + 5)\n",
    "#set up solve\n",
    "solution = sp.solve(driv_eq,x)\n",
    "\n",
    "#display\n",
    "solution"
   ]
  },
  {
   "cell_type": "code",
   "execution_count": 10,
   "id": "32cd185a-1245-4747-a46e-8b3046917035",
   "metadata": {},
   "outputs": [
    {
     "name": "stdout",
     "output_type": "stream",
     "text": [
      "2*x + 3\n"
     ]
    }
   ],
   "source": [
    "#gbt test\n",
    "import sympy as sp\n",
    "\n",
    "# Step 1: Define the symbols\n",
    "x = sp.symbols('x')\n",
    "\n",
    "# Step 2: Define the function\n",
    "f = x**2 + 3*x + 2\n",
    "\n",
    "# Step 3: Take the derivative\n",
    "derivative_f = sp.diff(f, x)\n",
    "\n",
    "# Display the result\n",
    "print(derivative_f)\n"
   ]
  },
  {
   "cell_type": "markdown",
   "id": "6f130c0d-870b-4e8e-b398-f4a3ea395e30",
   "metadata": {},
   "source": [
    "### Here's an example of how to solve a differential equation"
   ]
  },
  {
   "cell_type": "code",
   "execution_count": 1,
   "id": "1d908ff4-300b-41da-b3a2-e4b466632edb",
   "metadata": {},
   "outputs": [
    {
     "data": {
      "text/latex": [
       "$\\displaystyle y{\\left(x \\right)} = y_{0} e^{- \\frac{b x}{a}} e^{\\frac{b x_{0}}{a}}$"
      ],
      "text/plain": [
       "Eq(y(x), y0*exp(-b*x/a)*exp(b*x0/a))"
      ]
     },
     "execution_count": 1,
     "metadata": {},
     "output_type": "execute_result"
    }
   ],
   "source": [
    "import sympy as sp\n",
    "\n",
    "# Define the symbolic variables and function\n",
    "x, x0, y0, a, b = sp.symbols('x x0 y0 a b')  # Independent variable, constants, initial condition\n",
    "y = sp.Function('y')(x)  # Dependent variable y as a function of x\n",
    "\n",
    "# Define the first-order differential equation: a*y' + b*y = 0\n",
    "diff_eq = sp.Eq(a * y.diff(x) + b * y, 0)\n",
    "\n",
    "# Solve the differential equation\n",
    "general_solution = sp.dsolve(diff_eq, y)\n",
    "\n",
    "# Extract the solution for y(x)\n",
    "solution_y = general_solution.rhs\n",
    "\n",
    "# Apply the initial condition: y(x0) = y0\n",
    "initial_condition = sp.Eq(solution_y.subs(x, x0), y0)\n",
    "\n",
    "# Solve for the constant C1\n",
    "C1_value = sp.solve(initial_condition, sp.symbols('C1'))[0]\n",
    "\n",
    "# Substitute C1 back into the general solution\n",
    "solution_with_ic = general_solution.subs(sp.symbols('C1'), C1_value)\n",
    "\n",
    "# Display the solution with initial conditions\n",
    "solution_with_ic\n"
   ]
  },
  {
   "cell_type": "markdown",
   "id": "3cc4df62-649e-44a5-8162-29d985bff03d",
   "metadata": {},
   "source": [
    "## Assignment (1): Use `SymPy` to test the solutions we derived in class last week. \n",
    "\n",
    "$Q_{tr} = A cos(\\omega_\\gamma t) + B sin(\\omega_\\gamma t)$\n",
    "\n",
    "and \n",
    "\n",
    "$Q_{st} = \\bar{C} cos(\\omega t - \\phi)$\n",
    "\n",
    "where\n",
    "\n",
    "$\\omega_\\gamma = \\omega_0^2 - \\gamma^2$,\n",
    "\n",
    "$\\bar{C} = \\frac{F_0/m}{\\sqrt{(\\omega_0^2-\\omega^2)^2-4\\gamma^2\\omega^2}}$,\n",
    "\n",
    "and\n",
    "\n",
    "$\\phi = \\frac{2\\gamma\\omega}{\\omega_0^2-\\omega^2}$"
   ]
  },
  {
   "cell_type": "code",
   "execution_count": 13,
   "id": "acbdddf9-70cf-43bf-9fd0-0716bac5cefd",
   "metadata": {},
   "outputs": [
    {
     "data": {
      "text/plain": [
       "True"
      ]
     },
     "execution_count": 13,
     "metadata": {},
     "output_type": "execute_result"
    }
   ],
   "source": [
    "#testing solution to damped osilater\n",
    "#qdotdot + 2 gama qdot +omega^2 q= 0\n",
    "# e^gama [Acos(wt)+bsin(wt)\n",
    "\n",
    "#import sympy\n",
    "import sympy as sp\n",
    "#define variables\n",
    "A,B,omeg0,omeggam,gam,t = sp.symbols(\"A,B,omeg0,omeggam,gam,t\",real=True)\n",
    "\n",
    "Q = sp.Function(\"Q\")(t) \n",
    "\n",
    "#difrental equasion if left is zero\n",
    "diff_reff = sp.diff(Q,t,2) + 2 * gam * sp.diff(Q,t,1) + (omeg0 ** 2 ) * Q\n",
    "\n",
    "#define possible solutions\n",
    "\n",
    "Q_guess = sp.exp(-gam*t) * (A * sp.cos(omeggam * t) + B*sp.sin(omeggam * t ) )\n",
    "omeggam_ex = sp.sqrt(omeg0 ** 2 - gam ** 2 )\n",
    "\n",
    "#plug into equation,\n",
    "diff_test = sp.diff(Q_guess, t , 2 ) + 2 * gam*sp.diff(Q_guess,t,1) + (omeg0**2)*Q_guess\n",
    "final_test = diff_test.subs(omeggam , omeggam_ex).simplify().is_zero\n",
    "\n",
    "#3take derivitves\n",
    "final_test"
   ]
  },
  {
   "cell_type": "code",
   "execution_count": 5,
   "id": "98e1d09c-d9be-470e-98fd-f5a0af621901",
   "metadata": {},
   "outputs": [
    {
     "data": {
      "text/latex": [
       "$\\displaystyle \\text{True}$"
      ],
      "text/plain": [
       "True"
      ]
     },
     "execution_count": 5,
     "metadata": {},
     "output_type": "execute_result"
    }
   ],
   "source": [
    "#steady solution \n",
    "\n",
    "#yoink moduals = sympy\n",
    "import sympy as sp\n",
    "#define needed variables\n",
    "omeg0,omeggam,gam,t,F_0,m,omeg = sp.symbols(\"omeg0,omeggam,gam,t, F_0,m,omeg\",real=True)\n",
    "c = sp.symbols ( \"c\" , complex=True)\n",
    "Q = sp.Function(\"Q\")(t)\n",
    "F = sp.Function(\"F\")(t)\n",
    "\n",
    "#define diffrental equation\n",
    "diff_reff = sp.Eq(\n",
    "    sp.diff(Q,t,2) + 2 * gam * sp.diff(Q,t,1) + (omeg0 ** 2 ) * Q,F/m)\n",
    "\n",
    "#define our guess\n",
    "Q_guess_st = c * sp.exp(sp.I * omeg * t)\n",
    "driver_ex  = (F_0/m)*sp.exp(sp.I*omeg*t)\n",
    "drive_real = sp.re(driver_ex)\n",
    "\n",
    "#plugging in the guess\n",
    "diff_eq_guess = sp.Eq(\n",
    "    sp.diff(Q_guess_st,t,2) + 2*gam*sp.diff(Q_guess_st,t,1) + (omeg0**2)*Q_guess_st , \n",
    "    driver_ex)\n",
    "# solve for the c (not speed of light)\n",
    "C_sol = sp.solve(diff_eq_guess,c) [0]\n",
    "\n",
    "#fin real solution part\n",
    "Q_sol = sp.re(\n",
    "    sp.expand_complex(C_sol*sp.exp(sp.I*omeg*t)).simplify())\n",
    "\n",
    "#plug that part in\n",
    "\n",
    "sp.Eq(\n",
    "    sp.diff(Q_sol,t,2) + 2*gam*sp.diff(Q_sol,t,1) + (omeg0**2)*Q_sol,\n",
    "    drive_real).simplify()\n",
    "#test the alto solution"
   ]
  },
  {
   "cell_type": "markdown",
   "id": "7abe929c-4ca7-4690-84b6-216369e0c4a1",
   "metadata": {},
   "source": [
    "## Assignment (2): Create representative plots of $\\bar{C}$ and $\\phi$ \n"
   ]
  },
  {
   "cell_type": "code",
   "execution_count": 8,
   "id": "fa807cb1-d940-4d81-a6a2-f07ccfc31bb0",
   "metadata": {},
   "outputs": [
    {
     "data": {
      "image/png": "[encoded data removed]",
      "text/plain": [
       "<Figure size 1000x600 with 1 Axes>"
      ]
     },
     "metadata": {},
     "output_type": "display_data"
    }
   ],
   "source": [
    "import numpy as np\n",
    "import matplotlib.pyplot as plt\n",
    "import sympy as sp\n",
    "\n",
    "# Define variables\n",
    "f0, m, w0, gama, w = sp.symbols('f0 m w0 gama w')\n",
    "\n",
    "# Define the function\n",
    "expr = (f0 / m) / sp.sqrt((w0**2 - w**2)**2 + (4 * gama**2 * w**2))\n",
    "\n",
    "# Parameters\n",
    "f0_value = 1.0  # Example value for f0\n",
    "m_value = 1.0   # Example value for m\n",
    "w0_value = 2.0  # Example value for w0\n",
    "gama_value = 0.1  # Example value for gama\n",
    "\n",
    "# Substitute parameters into the expression\n",
    "expr_substituted = expr.subs({f0: f0_value, m: m_value, w0: w0_value, gama: gama_value})\n",
    "\n",
    "# Convert the expression to a numerical function\n",
    "f_num = sp.lambdify(w, expr_substituted, 'numpy')\n",
    "\n",
    "# Generate w values\n",
    "w_values = np.linspace(0, 4 * w0_value, 400)\n",
    "# Calculate the corresponding f(w)\n",
    "f_values = f_num(w_values)\n",
    "\n",
    "# Plot\n",
    "plt.figure(figsize=(10, 6))\n",
    "plt.plot(w_values, f_values, label='Response Function', color='g')\n",
    "plt.title('Plot of the Response Function')\n",
    "plt.xlabel('w')\n",
    "plt.ylabel('f(w)')\n",
    "plt.grid()\n",
    "plt.legend()\n",
    "plt.show()\n"
   ]
  },
  {
   "cell_type": "code",
   "execution_count": 9,
   "id": "5a1fc454-b77a-47f4-b0ad-1ee1302f0e1e",
   "metadata": {},
   "outputs": [
    {
     "data": {
      "image/png": "[encoded data removed]",
      "text/plain": [
       "<Figure size 1000x600 with 1 Axes>"
      ]
     },
     "metadata": {},
     "output_type": "display_data"
    }
   ],
   "source": [
    "import numpy as np\n",
    "import matplotlib.pyplot as plt\n",
    "import sympy as sp\n",
    "\n",
    "# Step 1: Define variables\n",
    "gamma, w, w0 = sp.symbols('gamma w w0')\n",
    "\n",
    "# Step 2: Define the function\n",
    "expr = sp.atan(2 * gamma * w / (w0**2 - w**2))\n",
    "\n",
    "# Parameters\n",
    "gamma_value = 0.1  # Example value for gamma\n",
    "w0_value = 2.0     # Example value for w0\n",
    "\n",
    "# Step 3: Substitute parameters into the expression\n",
    "expr_substituted = expr.subs({gamma: gamma_value, w0: w0_value})\n",
    "\n",
    "# Step 4: Convert the expression to a numerical function\n",
    "f_num = sp.lambdify(w, expr_substituted, 'numpy')\n",
    "\n",
    "# Step 5: Generate w values\n",
    "w_values = np.linspace(0, 4 * w0_value, 400)\n",
    "# Calculate the corresponding fee(w)\n",
    "fee_values = f_num(w_values)\n",
    "\n",
    "# Step 6: Plot\n",
    "plt.figure(figsize=(10, 6))\n",
    "plt.plot(w_values, fee_values, label='fee(w)', color='b')\n",
    "plt.title('Plot of fee = atan((2 * gamma * w) / (w0^2 - w^2))')\n",
    "plt.xlabel('w')\n",
    "plt.ylabel('fee')\n",
    "plt.grid()\n",
    "plt.legend()\n",
    "plt.show()\n"
   ]
  },
  {
   "cell_type": "code",
   "execution_count": null,
   "id": "3c8daa84-6c1a-4810-8fec-8ed331b49f46",
   "metadata": {},
   "outputs": [],
   "source": []
  }
 ],
 "metadata": {
  "kernelspec": {
   "display_name": "Python 3 (ipykernel)",
   "language": "python",
   "name": "python3"
  },
  "language_info": {
   "codemirror_mode": {
    "name": "ipython",
    "version": 3
   },
   "file_extension": ".py",
   "mimetype": "text/x-python",
   "name": "python",
   "nbconvert_exporter": "python",
   "pygments_lexer": "ipython3",
   "version": "3.9.19"
  }
 },
 "nbformat": 4,
 "nbformat_minor": 5
}
